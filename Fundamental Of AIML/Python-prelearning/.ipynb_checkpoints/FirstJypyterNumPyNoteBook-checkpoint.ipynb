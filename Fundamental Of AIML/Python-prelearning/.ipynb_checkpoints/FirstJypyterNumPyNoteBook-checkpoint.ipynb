{
 "cells": [
  {
   "cell_type": "code",
   "execution_count": 1,
   "metadata": {},
   "outputs": [],
   "source": [
    "import numpy as np"
   ]
  },
  {
   "cell_type": "code",
   "execution_count": 3,
   "metadata": {},
   "outputs": [
    {
     "name": "stdout",
     "output_type": "stream",
     "text": [
      "3.141592653589793\n",
      "-1.0\n",
      "1.1\n",
      "181.27224187515122\n",
      "5.2\n"
     ]
    }
   ],
   "source": [
    "print(np.pi)\n",
    "print(np.cos(np.pi))\n",
    "print(np.sqrt(1.21))\n",
    "print(np.exp(5.2))\n",
    "print(np.log(np.exp(5.2)))"
   ]
  },
  {
   "cell_type": "code",
   "execution_count": 6,
   "metadata": {},
   "outputs": [
    {
     "name": "stdout",
     "output_type": "stream",
     "text": [
      "[1 2 3]\n",
      "\n",
      "[[1 2 3]\n",
      " [3 5 7]\n",
      " [8 3 2]]\n",
      "\n",
      "[[1 3 8]\n",
      " [2 5 3]\n",
      " [3 7 2]]\n"
     ]
    }
   ],
   "source": [
    "vec = np.array([1,2,3])\n",
    "print(vec)\n",
    "\n",
    "mat = np.array([[1,2,3],[3,5,7],[8,3,2]])\n",
    "print('')\n",
    "print(mat)\n",
    "print('')\n",
    "print(mat.T)"
   ]
  },
  {
   "cell_type": "code",
   "execution_count": 5,
   "metadata": {},
   "outputs": [
    {
     "name": "stdout",
     "output_type": "stream",
     "text": [
      "range(0, 6)\n",
      "0\n",
      "1\n",
      "2\n",
      "3\n",
      "4\n",
      "5\n",
      "\n",
      "4\n",
      "5\n",
      "6\n",
      "7\n",
      "8\n",
      "9\n",
      "\n",
      "2\n",
      "5\n",
      "8\n"
     ]
    }
   ],
   "source": [
    "# we may just want to loop over a range of values\n",
    "# we can do this with a 'range' type\n",
    "print(range(6))\n",
    "   \n",
    "\n",
    "for i in range(6):\n",
    "    print(i)\n",
    "print('')      \n",
    "# we can specify the starting point of a range also\n",
    "# remember that the left value is inclusive and the right value is exclusive\n",
    "for i in range(4,10):\n",
    "    print(i)    \n",
    "print('')        \n",
    "# we can also increment by a specific amount\n",
    "for i in range(2,10,3):\n",
    "    print(i) "
   ]
  },
  {
   "cell_type": "code",
   "execution_count": 7,
   "metadata": {},
   "outputs": [
    {
     "name": "stdout",
     "output_type": "stream",
     "text": [
      "[ 0  1  2  3  4  5  6  7  8  9 10 11 12 13 14]\n",
      "\n",
      "[ 3  9 15]\n"
     ]
    }
   ],
   "source": [
    "\n",
    "vec2 = np.arange(0,15)\n",
    "print(vec2)\n",
    "print('')\n",
    "vec3 = np.arange(3,21,6)\n",
    "print(vec3)"
   ]
  },
  {
   "cell_type": "code",
   "execution_count": 8,
   "metadata": {},
   "outputs": [
    {
     "name": "stdout",
     "output_type": "stream",
     "text": [
      "[0.         0.55555556 1.11111111 1.66666667 2.22222222 2.77777778\n",
      " 3.33333333 3.88888889 4.44444444 5.        ]\n",
      "\n",
      "[[0.         0.55555556]\n",
      " [1.11111111 1.66666667]\n",
      " [2.22222222 2.77777778]\n",
      " [3.33333333 3.88888889]\n",
      " [4.44444444 5.        ]]\n",
      "[0.         0.55555556 1.11111111 1.66666667 2.22222222 2.77777778\n",
      " 3.33333333 3.88888889 4.44444444 5.        ]\n"
     ]
    },
    {
     "data": {
      "text/plain": [
       "array([[0.        , 0.55555556],\n",
       "       [1.11111111, 1.66666667],\n",
       "       [2.22222222, 2.77777778],\n",
       "       [3.33333333, 3.88888889],\n",
       "       [4.44444444, 5.        ]])"
      ]
     },
     "execution_count": 8,
     "metadata": {},
     "output_type": "execute_result"
    }
   ],
   "source": [
    "vec4 = np.linspace(0,5,10)\n",
    "\n",
    "print(vec4)\n",
    "print('')\n",
    "print(vec4.reshape(5,2))\n",
    "print(vec4)\n",
    "vec4_reshape = vec4.reshape(5,2)\n",
    "vec4_reshape"
   ]
  },
  {
   "cell_type": "code",
   "execution_count": 147,
   "metadata": {},
   "outputs": [
    {
     "name": "stdout",
     "output_type": "stream",
     "text": [
      "mat2\n",
      "[[0. 0. 0.]\n",
      " [0. 0. 0.]\n",
      " [0. 0. 0.]\n",
      " [0. 0. 0.]\n",
      " [0. 0. 0.]]\n",
      "\n",
      "mat3\n",
      "[[1. 1. 1. 1. 1.]\n",
      " [1. 1. 1. 1. 1.]\n",
      " [1. 1. 1. 1. 1.]]\n",
      "\n"
     ]
    }
   ],
   "source": [
    "mat2 = np.zeros([5,3])\n",
    "print('mat2')\n",
    "print(mat2)\n",
    "print('')\n",
    "mat3 = np.ones([3,5])\n",
    "print('mat3')\n",
    "print(mat3)\n",
    "print('')"
   ]
  },
  {
   "cell_type": "code",
   "execution_count": 157,
   "metadata": {},
   "outputs": [
    {
     "name": "stdout",
     "output_type": "stream",
     "text": [
      "[-1.08298965 -1.11313381 -2.32928145 -2.17363766  0.4581145  -0.38126143\n",
      " -0.1152348  -0.10070615 -0.11131364  0.61119425 -0.54873272  0.34888601\n",
      "  0.40453888  0.90256595  0.59392938  1.71840107  1.26266254  0.61397714\n",
      " -0.75592989]\n",
      "-0.11523480296833463\n"
     ]
    }
   ],
   "source": [
    "rand_vec = np.random.randn(19)\n",
    "print(rand_vec)\n",
    "print(rand_vec[6])"
   ]
  },
  {
   "cell_type": "code",
   "execution_count": 149,
   "metadata": {},
   "outputs": [
    {
     "name": "stdout",
     "output_type": "stream",
     "text": [
      "[-0.13716462 -0.53689995  0.28755384 -0.03015496 -0.4385073 ]\n"
     ]
    }
   ],
   "source": [
    "print(rand_vec[4:9])"
   ]
  },
  {
   "cell_type": "code",
   "execution_count": 150,
   "metadata": {},
   "outputs": [
    {
     "name": "stdout",
     "output_type": "stream",
     "text": [
      "[ 0  3  6  9 12]\n",
      "[ 0.34988892 -0.87629095  0.28755384 -2.13447643  0.03153886]\n"
     ]
    }
   ],
   "source": [
    "print(np.arange(0,15,3))\n",
    "print(rand_vec[np.arange(0,15,3)])"
   ]
  },
  {
   "cell_type": "code",
   "execution_count": 153,
   "metadata": {},
   "outputs": [
    {
     "name": "stdout",
     "output_type": "stream",
     "text": [
      "[[0.39784772 0.1328796  0.8823397  0.9066973  0.76015089]\n",
      " [0.71175224 0.03159674 0.06650052 0.09891422 0.61201431]\n",
      " [0.90246925 0.75433208 0.42724286 0.35000919 0.87386853]\n",
      " [0.28456475 0.20750237 0.60700759 0.70695105 0.31355772]\n",
      " [0.50084718 0.2357536  0.60697101 0.30137842 0.57546639]]\n",
      "\n",
      "[[ 0.60792363 -0.38831807 -1.18813065  2.03144206 -0.06416267]\n",
      " [ 0.03253455  0.86878072 -0.24068406 -1.66733927 -0.52418844]\n",
      " [-1.69293069  3.06279635  0.94204666 -0.81301706 -0.49270374]\n",
      " [ 0.32216291 -1.91874346  0.33059128  0.30142463 -0.3149531 ]\n",
      " [ 0.27016829 -1.13467558 -0.80758575  1.45877285 -0.77384854]\n",
      " [-0.78566181  2.75726966 -0.19185523 -2.0551039   0.85245818]\n",
      " [ 0.39278541 -3.01977138 -0.06853251  0.24865275  0.56730758]\n",
      " [ 1.44901824  0.47890949  2.27223979 -1.21165118 -0.96130158]\n",
      " [-0.27533269  0.75490665 -0.92236421 -0.95475763  0.81440828]\n",
      " [ 0.14566381 -1.32388194  0.16299816 -0.29769628  0.95614051]]\n"
     ]
    }
   ],
   "source": [
    "# we can also use numpy to generate samples of a random variable\n",
    "rand_mat = np.random.rand(5,5) # uniform random variable\n",
    "print(rand_mat)\n",
    "rand_mat2 = np.random.randn(10,5) # standard normal random variable\n",
    "print('')\n",
    "print(rand_mat2)"
   ]
  },
  {
   "cell_type": "code",
   "execution_count": 154,
   "metadata": {},
   "outputs": [
    {
     "name": "stdout",
     "output_type": "stream",
     "text": [
      "[[0.39784772 0.1328796  0.8823397  0.9066973  0.76015089]\n",
      " [0.71175224 0.03159674 0.06650052 0.09891422 0.61201431]\n",
      " [0.90246925 0.75433208 0.42724286 0.35000919 0.87386853]\n",
      " [0.28456475 0.20750237 0.60700759 0.70695105 0.31355772]\n",
      " [0.50084718 0.2357536  0.60697101 0.30137842 0.57546639]]\n",
      "0.06650051559632975\n",
      "0.06650051559632975\n"
     ]
    }
   ],
   "source": [
    "print(rand_mat)\n",
    "print(rand_mat[1][2])\n",
    "print(rand_mat[1,2])"
   ]
  },
  {
   "cell_type": "code",
   "execution_count": 155,
   "metadata": {},
   "outputs": [
    {
     "name": "stdout",
     "output_type": "stream",
     "text": [
      "[[0.1328796  0.8823397 ]\n",
      " [0.03159674 0.06650052]]\n"
     ]
    }
   ],
   "source": [
    "print(rand_mat[0:2,1:3])"
   ]
  },
  {
   "cell_type": "code",
   "execution_count": 160,
   "metadata": {},
   "outputs": [
    {
     "name": "stdout",
     "output_type": "stream",
     "text": [
      "[-1.08298965 -1.11313381 -2.32928145  1.          2.         -0.38126143\n",
      " -0.1152348  -0.10070615 -0.11131364  0.61119425 -0.54873272  0.34888601\n",
      "  0.40453888  0.90256595  0.59392938  1.71840107  1.26266254  0.61397714\n",
      " -0.75592989]\n",
      "\n",
      "[-1.08298965 -1.11313381 -2.32928145  4.          4.         -0.38126143\n",
      " -0.1152348  -0.10070615 -0.11131364  0.61119425 -0.54873272  0.34888601\n",
      "  0.40453888  0.90256595  0.59392938  1.71840107  1.26266254  0.61397714\n",
      " -0.75592989]\n",
      "\n",
      "[-1.08298965 -1.11313381 -2.32928145  1.          2.         -0.38126143\n",
      " -0.1152348  -0.10070615 -0.11131364  0.61119425 -0.54873272  0.34888601\n",
      "  0.40453888  0.90256595  0.59392938  1.71840107  1.26266254  0.61397714\n",
      " -0.75592989]\n"
     ]
    }
   ],
   "source": [
    "print(rand_vec)\n",
    "rand_vec[3:5] = 4\n",
    "print('')\n",
    "print(rand_vec)\n",
    "rand_vec[3:5] = [1,2]\n",
    "print('')\n",
    "print(rand_vec)"
   ]
  },
  {
   "cell_type": "code",
   "execution_count": 161,
   "metadata": {},
   "outputs": [
    {
     "name": "stdout",
     "output_type": "stream",
     "text": [
      "[[0.39784772 0.1328796  0.8823397  0.9066973  0.76015089]\n",
      " [0.71175224 0.03159674 0.06650052 0.09891422 0.61201431]\n",
      " [0.90246925 0.75433208 0.42724286 0.35000919 0.87386853]\n",
      " [0.28456475 0.20750237 0.60700759 0.70695105 0.31355772]\n",
      " [0.50084718 0.2357536  0.60697101 0.30137842 0.57546639]]\n",
      "\n",
      "[[0.39784772 0.1328796  0.8823397  0.9066973  0.76015089]\n",
      " [0.71175224 0.03159674 0.06650052 0.         0.        ]\n",
      " [0.90246925 0.75433208 0.42724286 0.         0.        ]\n",
      " [0.28456475 0.20750237 0.60700759 0.70695105 0.31355772]\n",
      " [0.50084718 0.2357536  0.60697101 0.30137842 0.57546639]]\n"
     ]
    }
   ],
   "source": [
    "print(rand_mat)\n",
    "rand_mat[1:3,3:5] = 0\n",
    "print('')\n",
    "print(rand_mat)"
   ]
  },
  {
   "cell_type": "code",
   "execution_count": 162,
   "metadata": {},
   "outputs": [
    {
     "name": "stdout",
     "output_type": "stream",
     "text": [
      "[[0.39784772 0.1328796  0.8823397 ]\n",
      " [0.71175224 0.03159674 0.06650052]]\n",
      "[[3. 3. 3.]\n",
      " [3. 3. 3.]]\n"
     ]
    }
   ],
   "source": [
    "sub_mat = rand_mat[0:2,0:3]\n",
    "print(sub_mat)\n",
    "sub_mat[:] = 3\n",
    "print(sub_mat)"
   ]
  },
  {
   "cell_type": "code",
   "execution_count": 163,
   "metadata": {},
   "outputs": [
    {
     "name": "stdout",
     "output_type": "stream",
     "text": [
      "[[3.         3.         3.         0.9066973  0.76015089]\n",
      " [3.         3.         3.         0.         0.        ]\n",
      " [0.90246925 0.75433208 0.42724286 0.         0.        ]\n",
      " [0.28456475 0.20750237 0.60700759 0.70695105 0.31355772]\n",
      " [0.50084718 0.2357536  0.60697101 0.30137842 0.57546639]]\n"
     ]
    }
   ],
   "source": [
    "print(rand_mat)"
   ]
  },
  {
   "cell_type": "code",
   "execution_count": 164,
   "metadata": {},
   "outputs": [
    {
     "name": "stdout",
     "output_type": "stream",
     "text": [
      "[[3. 3. 3.]\n",
      " [3. 3. 3.]]\n",
      "[[99. 99. 99.]\n",
      " [99. 99. 99.]]\n",
      "[[3.         3.         3.         0.9066973  0.76015089]\n",
      " [3.         3.         3.         0.         0.        ]\n",
      " [0.90246925 0.75433208 0.42724286 0.         0.        ]\n",
      " [0.28456475 0.20750237 0.60700759 0.70695105 0.31355772]\n",
      " [0.50084718 0.2357536  0.60697101 0.30137842 0.57546639]]\n"
     ]
    }
   ],
   "source": [
    "sub_mat2 = rand_mat[0:2,0:3].copy()\n",
    "print(sub_mat2)\n",
    "sub_mat2[:] = 99\n",
    "print(sub_mat2)\n",
    "print(rand_mat)"
   ]
  },
  {
   "cell_type": "code",
   "execution_count": null,
   "metadata": {},
   "outputs": [],
   "source": [
    "# break here for next video"
   ]
  },
  {
   "cell_type": "code",
   "execution_count": 165,
   "metadata": {},
   "outputs": [
    {
     "name": "stdout",
     "output_type": "stream",
     "text": [
      "[[100   2   3]\n",
      " [  4   5   6]\n",
      " [  7   8   9]]\n"
     ]
    }
   ],
   "source": [
    "import numpy as np\n",
    "\n",
    "array1 = np.array([[1,2,3],[4,5,6],[7,8,9]])\n",
    "\n",
    "array2 = array1\n",
    "\n",
    "#if the change the very first element of array2,\n",
    "\n",
    "array2[0][0] = 100\n",
    "print(array1)"
   ]
  },
  {
   "cell_type": "code",
   "execution_count": 166,
   "metadata": {},
   "outputs": [
    {
     "name": "stdout",
     "output_type": "stream",
     "text": [
      "5\n"
     ]
    }
   ],
   "source": [
    "import numpy as np\n",
    "\n",
    "matrix = np.array([[1,2,3],[4,5,6],[7,8,9]])\n",
    "\n",
    "print(matrix[1][1])"
   ]
  },
  {
   "cell_type": "code",
   "execution_count": 167,
   "metadata": {},
   "outputs": [
    {
     "name": "stdout",
     "output_type": "stream",
     "text": [
      "[ 1.04531238  0.66097752  2.60622833  0.89867454  0.37774263  0.96254973\n",
      " -0.46068113 -0.63307682 -0.20651978 -0.0110769  -0.66155558  1.41921217\n",
      "  0.83265507  1.48622614  0.27811472]\n",
      "[ True  True  True  True  True  True False False False False False  True\n",
      "  True  True  True]\n",
      "[1.04531238 0.66097752 2.60622833 0.89867454 0.37774263 0.96254973\n",
      " 1.41921217 0.83265507 1.48622614 0.27811472]\n"
     ]
    }
   ],
   "source": [
    "rand_vec = np.random.randn(15)\n",
    "\n",
    "print(rand_vec)\n",
    "print(rand_vec>0)\n",
    "print(rand_vec[rand_vec>0])"
   ]
  },
  {
   "cell_type": "code",
   "execution_count": 168,
   "metadata": {},
   "outputs": [
    {
     "name": "stdout",
     "output_type": "stream",
     "text": [
      "[[ 0.60792363 -0.38831807 -1.18813065  2.03144206 -0.06416267]\n",
      " [ 0.03253455  0.86878072 -0.24068406 -1.66733927 -0.52418844]\n",
      " [-1.69293069  3.06279635  0.94204666 -0.81301706 -0.49270374]\n",
      " [ 0.32216291 -1.91874346  0.33059128  0.30142463 -0.3149531 ]\n",
      " [ 0.27016829 -1.13467558 -0.80758575  1.45877285 -0.77384854]\n",
      " [-0.78566181  2.75726966 -0.19185523 -2.0551039   0.85245818]\n",
      " [ 0.39278541 -3.01977138 -0.06853251  0.24865275  0.56730758]\n",
      " [ 1.44901824  0.47890949  2.27223979 -1.21165118 -0.96130158]\n",
      " [-0.27533269  0.75490665 -0.92236421 -0.95475763  0.81440828]\n",
      " [ 0.14566381 -1.32388194  0.16299816 -0.29769628  0.95614051]]\n",
      "[[ True False False  True False]\n",
      " [ True  True False False False]\n",
      " [False  True  True False False]\n",
      " [ True False  True  True False]\n",
      " [ True False False  True False]\n",
      " [False  True False False  True]\n",
      " [ True False False  True  True]\n",
      " [ True  True  True False False]\n",
      " [False  True False False  True]\n",
      " [ True False  True False  True]]\n",
      "[0.60792363 2.03144206 0.03253455 0.86878072 3.06279635 0.94204666\n",
      " 0.32216291 0.33059128 0.30142463 0.27016829 1.45877285 2.75726966\n",
      " 0.85245818 0.39278541 0.24865275 0.56730758 1.44901824 0.47890949\n",
      " 2.27223979 0.75490665 0.81440828 0.14566381 0.16299816 0.95614051]\n"
     ]
    }
   ],
   "source": [
    "print(rand_mat2)\n",
    "print(rand_mat2>0)\n",
    "print(rand_mat2[rand_mat2>0])"
   ]
  },
  {
   "cell_type": "code",
   "execution_count": 169,
   "metadata": {},
   "outputs": [
    {
     "name": "stdout",
     "output_type": "stream",
     "text": [
      "[ 1.04531238  0.66097752  2.60622833  0.89867454  0.37774263  0.96254973\n",
      " -0.46068113 -0.63307682 -0.20651978 -0.0110769  -0.66155558  1.41921217\n",
      "  0.83265507  1.48622614  0.27811472]\n",
      "\n",
      "[-5.         -5.         -5.         -5.          0.37774263 -5.\n",
      " -0.46068113 -0.63307682 -0.20651978 -0.0110769  -0.66155558 -5.\n",
      " -5.         -5.          0.27811472]\n"
     ]
    }
   ],
   "source": [
    "\n",
    "\n",
    "print(rand_vec)\n",
    "print('')\n",
    "rand_vec[rand_vec>0.5] = -5\n",
    "print(rand_vec)"
   ]
  },
  {
   "cell_type": "code",
   "execution_count": 171,
   "metadata": {},
   "outputs": [],
   "source": [
    "np.save('saved_file_name',rand_mat2)"
   ]
  },
  {
   "cell_type": "code",
   "execution_count": 173,
   "metadata": {},
   "outputs": [],
   "source": [
    "np.savez('zipped_file_name',rand_mat=rand_mat,rand_mat2=rand_mat2)"
   ]
  },
  {
   "cell_type": "code",
   "execution_count": 176,
   "metadata": {},
   "outputs": [
    {
     "name": "stdout",
     "output_type": "stream",
     "text": [
      "[[ 0.60792363 -0.38831807 -1.18813065  2.03144206 -0.06416267]\n",
      " [ 0.03253455  0.86878072 -0.24068406 -1.66733927 -0.52418844]\n",
      " [-1.69293069  3.06279635  0.94204666 -0.81301706 -0.49270374]\n",
      " [ 0.32216291 -1.91874346  0.33059128  0.30142463 -0.3149531 ]\n",
      " [ 0.27016829 -1.13467558 -0.80758575  1.45877285 -0.77384854]\n",
      " [-0.78566181  2.75726966 -0.19185523 -2.0551039   0.85245818]\n",
      " [ 0.39278541 -3.01977138 -0.06853251  0.24865275  0.56730758]\n",
      " [ 1.44901824  0.47890949  2.27223979 -1.21165118 -0.96130158]\n",
      " [-0.27533269  0.75490665 -0.92236421 -0.95475763  0.81440828]\n",
      " [ 0.14566381 -1.32388194  0.16299816 -0.29769628  0.95614051]]\n",
      "\n",
      "<numpy.lib.npyio.NpzFile object at 0x000001F65A01BA60>\n"
     ]
    }
   ],
   "source": [
    "loaded_vec = np.load('saved_file_name.npy')\n",
    "loaded_zip = np.load('zipped_file_name.npz')\n",
    "\n",
    "print(loaded_vec)\n",
    "print('')\n",
    "print(loaded_zip)"
   ]
  },
  {
   "cell_type": "code",
   "execution_count": 179,
   "metadata": {},
   "outputs": [
    {
     "name": "stdout",
     "output_type": "stream",
     "text": [
      "[[3.         3.         3.         0.9066973  0.76015089]\n",
      " [3.         3.         3.         0.         0.        ]\n",
      " [0.90246925 0.75433208 0.42724286 0.         0.        ]\n",
      " [0.28456475 0.20750237 0.60700759 0.70695105 0.31355772]\n",
      " [0.50084718 0.2357536  0.60697101 0.30137842 0.57546639]]\n",
      "\n",
      "[[ 0.60792363 -0.38831807 -1.18813065  2.03144206 -0.06416267]\n",
      " [ 0.03253455  0.86878072 -0.24068406 -1.66733927 -0.52418844]\n",
      " [-1.69293069  3.06279635  0.94204666 -0.81301706 -0.49270374]\n",
      " [ 0.32216291 -1.91874346  0.33059128  0.30142463 -0.3149531 ]\n",
      " [ 0.27016829 -1.13467558 -0.80758575  1.45877285 -0.77384854]\n",
      " [-0.78566181  2.75726966 -0.19185523 -2.0551039   0.85245818]\n",
      " [ 0.39278541 -3.01977138 -0.06853251  0.24865275  0.56730758]\n",
      " [ 1.44901824  0.47890949  2.27223979 -1.21165118 -0.96130158]\n",
      " [-0.27533269  0.75490665 -0.92236421 -0.95475763  0.81440828]\n",
      " [ 0.14566381 -1.32388194  0.16299816 -0.29769628  0.95614051]]\n"
     ]
    }
   ],
   "source": [
    "print(loaded_zip['rand_mat'])\n",
    "print('')\n",
    "print(loaded_zip['rand_mat2'])\n",
    "\n",
    "new_array = loaded_zip['rand_mat']\n",
    "print(new_array)"
   ]
  },
  {
   "cell_type": "code",
   "execution_count": 182,
   "metadata": {},
   "outputs": [
    {
     "name": "stdout",
     "output_type": "stream",
     "text": [
      "[[3.         3.         3.         0.9066973  0.76015089]\n",
      " [3.         3.         3.         0.         0.        ]\n",
      " [0.90246925 0.75433208 0.42724286 0.         0.        ]\n",
      " [0.28456475 0.20750237 0.60700759 0.70695105 0.31355772]\n",
      " [0.50084718 0.2357536  0.60697101 0.30137842 0.57546639]]\n",
      "\n",
      "[[3.         3.         3.         0.9066973  0.76015089]\n",
      " [3.         3.         3.         0.         0.        ]\n",
      " [0.90246925 0.75433208 0.42724286 0.         0.        ]\n",
      " [0.28456475 0.20750237 0.60700759 0.70695105 0.31355772]\n",
      " [0.50084718 0.2357536  0.60697101 0.30137842 0.57546639]]\n"
     ]
    }
   ],
   "source": [
    "np.savetxt('text_file_name.txt', rand_mat, delimiter=',')\n",
    "rand_mat_txt=np.loadtxt('text_file_name.txt', delimiter=',')\n",
    "print(rand_mat)\n",
    "print('')\n",
    "print(rand_mat_txt)"
   ]
  },
  {
   "cell_type": "code",
   "execution_count": 1,
   "metadata": {},
   "outputs": [],
   "source": [
    "import numpy as np"
   ]
  },
  {
   "cell_type": "code",
   "execution_count": 22,
   "metadata": {},
   "outputs": [
    {
     "data": {
      "text/plain": [
       "array([10, 20, 30, 40, 50, 60])"
      ]
     },
     "execution_count": 22,
     "metadata": {},
     "output_type": "execute_result"
    }
   ],
   "source": [
    "n1 = np.array([10,20,30,40,50,60])\n",
    "n1\n"
   ]
  },
  {
   "cell_type": "code",
   "execution_count": 23,
   "metadata": {},
   "outputs": [
    {
     "data": {
      "text/plain": [
       "numpy.ndarray"
      ]
     },
     "execution_count": 23,
     "metadata": {},
     "output_type": "execute_result"
    }
   ],
   "source": [
    "type(n1)"
   ]
  },
  {
   "cell_type": "code",
   "execution_count": 25,
   "metadata": {},
   "outputs": [
    {
     "data": {
      "text/plain": [
       "array(['1', 'a', 'd', '2', '4', 'g', '1'], dtype='<U11')"
      ]
     },
     "execution_count": 25,
     "metadata": {},
     "output_type": "execute_result"
    }
   ],
   "source": [
    "n2 = np.array([1,'a','d',2,4,\"g\",1])\n",
    "n2"
   ]
  },
  {
   "cell_type": "code",
   "execution_count": 26,
   "metadata": {},
   "outputs": [
    {
     "data": {
      "text/plain": [
       "numpy.ndarray"
      ]
     },
     "execution_count": 26,
     "metadata": {},
     "output_type": "execute_result"
    }
   ],
   "source": [
    "type(n2)"
   ]
  },
  {
   "cell_type": "code",
   "execution_count": 27,
   "metadata": {},
   "outputs": [
    {
     "data": {
      "text/plain": [
       "array([[10, 20, 30, 40, 50, 60],\n",
       "       [ 1,  2,  3, 40,  5, 60]])"
      ]
     },
     "execution_count": 27,
     "metadata": {},
     "output_type": "execute_result"
    }
   ],
   "source": [
    "n3 = np.array([[10,20,30,40,50,60],[1,2,3,40,5,60]])\n",
    "n3"
   ]
  },
  {
   "cell_type": "code",
   "execution_count": 28,
   "metadata": {},
   "outputs": [
    {
     "data": {
      "text/plain": [
       "numpy.ndarray"
      ]
     },
     "execution_count": 28,
     "metadata": {},
     "output_type": "execute_result"
    }
   ],
   "source": [
    "type(n3)"
   ]
  },
  {
   "cell_type": "code",
   "execution_count": 29,
   "metadata": {},
   "outputs": [
    {
     "name": "stderr",
     "output_type": "stream",
     "text": [
      "<ipython-input-29-917aaabeb913>:1: VisibleDeprecationWarning: Creating an ndarray from ragged nested sequences (which is a list-or-tuple of lists-or-tuples-or ndarrays with different lengths or shapes) is deprecated. If you meant to do this, you must specify 'dtype=object' when creating the ndarray\n",
      "  n4 = np.array([[10,20,30,40,50,60],[1,2,3,40,60]])\n"
     ]
    },
    {
     "data": {
      "text/plain": [
       "array([list([10, 20, 30, 40, 50, 60]), list([1, 2, 3, 40, 60])],\n",
       "      dtype=object)"
      ]
     },
     "execution_count": 29,
     "metadata": {},
     "output_type": "execute_result"
    }
   ],
   "source": [
    "n4 = np.array([[10,20,30,40,50,60],[1,2,3,40,60]])\n",
    "n4"
   ]
  },
  {
   "cell_type": "code",
   "execution_count": 30,
   "metadata": {},
   "outputs": [
    {
     "name": "stderr",
     "output_type": "stream",
     "text": [
      "<ipython-input-30-9f9726a0bb7e>:1: VisibleDeprecationWarning: Creating an ndarray from ragged nested sequences (which is a list-or-tuple of lists-or-tuples-or ndarrays with different lengths or shapes) is deprecated. If you meant to do this, you must specify 'dtype=object' when creating the ndarray\n",
      "  n5 = np.array([[10,20,30,40,50,60],[1,'a','d',2,4,\"g\",1]])\n"
     ]
    },
    {
     "data": {
      "text/plain": [
       "array([list([10, 20, 30, 40, 50, 60]), list([1, 'a', 'd', 2, 4, 'g', 1])],\n",
       "      dtype=object)"
      ]
     },
     "execution_count": 30,
     "metadata": {},
     "output_type": "execute_result"
    }
   ],
   "source": [
    "n5 = np.array([[10,20,30,40,50,60],[1,'a','d',2,4,\"g\",1]])\n",
    "n5"
   ]
  },
  {
   "cell_type": "code",
   "execution_count": 32,
   "metadata": {},
   "outputs": [
    {
     "data": {
      "text/plain": [
       "array([[0., 0., 0., 0., 0., 0.],\n",
       "       [0., 0., 0., 0., 0., 0.],\n",
       "       [0., 0., 0., 0., 0., 0.],\n",
       "       [0., 0., 0., 0., 0., 0.],\n",
       "       [0., 0., 0., 0., 0., 0.]])"
      ]
     },
     "execution_count": 32,
     "metadata": {},
     "output_type": "execute_result"
    }
   ],
   "source": [
    "n7 = np.zeros((5,6))\n",
    "n7"
   ]
  },
  {
   "cell_type": "code",
   "execution_count": 33,
   "metadata": {},
   "outputs": [
    {
     "data": {
      "text/plain": [
       "numpy.ndarray"
      ]
     },
     "execution_count": 33,
     "metadata": {},
     "output_type": "execute_result"
    }
   ],
   "source": [
    "type(n7)"
   ]
  },
  {
   "cell_type": "code",
   "execution_count": 36,
   "metadata": {},
   "outputs": [
    {
     "data": {
      "text/plain": [
       "array([[5, 5, 5, 5, 5, 5],\n",
       "       [5, 5, 5, 5, 5, 5],\n",
       "       [5, 5, 5, 5, 5, 5],\n",
       "       [5, 5, 5, 5, 5, 5],\n",
       "       [5, 5, 5, 5, 5, 5]])"
      ]
     },
     "execution_count": 36,
     "metadata": {},
     "output_type": "execute_result"
    }
   ],
   "source": [
    "n8 = np.full((5,6),5)\n",
    "n8"
   ]
  },
  {
   "cell_type": "code",
   "execution_count": 38,
   "metadata": {},
   "outputs": [
    {
     "data": {
      "text/plain": [
       "array([['a', 'a', 'a', 'a', 'a', 'a'],\n",
       "       ['a', 'a', 'a', 'a', 'a', 'a'],\n",
       "       ['a', 'a', 'a', 'a', 'a', 'a'],\n",
       "       ['a', 'a', 'a', 'a', 'a', 'a'],\n",
       "       ['a', 'a', 'a', 'a', 'a', 'a']], dtype='<U1')"
      ]
     },
     "execution_count": 38,
     "metadata": {},
     "output_type": "execute_result"
    }
   ],
   "source": [
    "n8 = np.full((5,6),\"a\")\n",
    "n8"
   ]
  },
  {
   "cell_type": "code",
   "execution_count": 41,
   "metadata": {},
   "outputs": [
    {
     "data": {
      "text/plain": [
       "array([10, 11, 12, 13, 14, 15, 16, 17, 18, 19, 20, 21, 22, 23, 24, 25, 26,\n",
       "       27, 28, 29, 30, 31, 32, 33, 34, 35, 36, 37, 38, 39, 40, 41, 42, 43,\n",
       "       44, 45, 46, 47, 48, 49])"
      ]
     },
     "execution_count": 41,
     "metadata": {},
     "output_type": "execute_result"
    }
   ],
   "source": [
    "n9 = np.arange(10,50)\n",
    "n9"
   ]
  },
  {
   "cell_type": "code",
   "execution_count": 42,
   "metadata": {},
   "outputs": [
    {
     "data": {
      "text/plain": [
       "numpy.ndarray"
      ]
     },
     "execution_count": 42,
     "metadata": {},
     "output_type": "execute_result"
    }
   ],
   "source": [
    "type(n9)"
   ]
  },
  {
   "cell_type": "code",
   "execution_count": 43,
   "metadata": {},
   "outputs": [
    {
     "data": {
      "text/plain": [
       "array([ 1,  4,  7, 10, 13, 16, 19, 22, 25, 28])"
      ]
     },
     "execution_count": 43,
     "metadata": {},
     "output_type": "execute_result"
    }
   ],
   "source": [
    "n10 = np.arange(1,30,3)\n",
    "n10"
   ]
  },
  {
   "cell_type": "code",
   "execution_count": 45,
   "metadata": {},
   "outputs": [
    {
     "ename": "TypeError",
     "evalue": "unsupported operand type(s) for /: 'int' and 'str'",
     "output_type": "error",
     "traceback": [
      "\u001b[1;31m---------------------------------------------------------------------------\u001b[0m",
      "\u001b[1;31mTypeError\u001b[0m                                 Traceback (most recent call last)",
      "\u001b[1;32m<ipython-input-45-1c6e24315846>\u001b[0m in \u001b[0;36m<module>\u001b[1;34m\u001b[0m\n\u001b[1;32m----> 1\u001b[1;33m \u001b[0mn10\u001b[0m \u001b[1;33m=\u001b[0m \u001b[0mnp\u001b[0m\u001b[1;33m.\u001b[0m\u001b[0marange\u001b[0m\u001b[1;33m(\u001b[0m\u001b[1;36m1\u001b[0m\u001b[1;33m,\u001b[0m\u001b[1;36m30\u001b[0m\u001b[1;33m,\u001b[0m\u001b[1;34m'3'\u001b[0m\u001b[1;33m)\u001b[0m\u001b[1;33m\u001b[0m\u001b[1;33m\u001b[0m\u001b[0m\n\u001b[0m\u001b[0;32m      2\u001b[0m \u001b[0mn10\u001b[0m\u001b[1;33m\u001b[0m\u001b[1;33m\u001b[0m\u001b[0m\n",
      "\u001b[1;31mTypeError\u001b[0m: unsupported operand type(s) for /: 'int' and 'str'"
     ]
    }
   ],
   "source": [
    "n10 = np.arange(1,30,'3')\n",
    "n10"
   ]
  },
  {
   "cell_type": "code",
   "execution_count": 49,
   "metadata": {},
   "outputs": [
    {
     "data": {
      "text/plain": [
       "array([ 95, 188, 755, 450, 697, 334, 341, 302, 369, 439])"
      ]
     },
     "execution_count": 49,
     "metadata": {},
     "output_type": "execute_result"
    }
   ],
   "source": [
    "n11 = np.random.randint(10,1000,10)\n",
    "n11"
   ]
  },
  {
   "cell_type": "code",
   "execution_count": 54,
   "metadata": {},
   "outputs": [
    {
     "data": {
      "text/plain": [
       "(2, 3)"
      ]
     },
     "execution_count": 54,
     "metadata": {},
     "output_type": "execute_result"
    }
   ],
   "source": [
    "n12 = np.array([[1,2,3],[4,5,6]])\n",
    "n12.shape"
   ]
  },
  {
   "cell_type": "code",
   "execution_count": 55,
   "metadata": {},
   "outputs": [
    {
     "data": {
      "text/plain": [
       "array([[1, 2, 3],\n",
       "       [4, 5, 6]])"
      ]
     },
     "execution_count": 55,
     "metadata": {},
     "output_type": "execute_result"
    }
   ],
   "source": [
    "n12"
   ]
  },
  {
   "cell_type": "code",
   "execution_count": 57,
   "metadata": {},
   "outputs": [
    {
     "data": {
      "text/plain": [
       "(3, 2)"
      ]
     },
     "execution_count": 57,
     "metadata": {},
     "output_type": "execute_result"
    }
   ],
   "source": [
    "n12.shape = (3,2)\n",
    "n12.shape"
   ]
  },
  {
   "cell_type": "code",
   "execution_count": 59,
   "metadata": {},
   "outputs": [
    {
     "data": {
      "text/plain": [
       "array([[1, 2],\n",
       "       [3, 4],\n",
       "       [5, 6]])"
      ]
     },
     "execution_count": 59,
     "metadata": {},
     "output_type": "execute_result"
    }
   ],
   "source": [
    "n12"
   ]
  },
  {
   "cell_type": "code",
   "execution_count": 66,
   "metadata": {},
   "outputs": [],
   "source": [
    "a1 = np.array([10,20,30])\n",
    "a2 = np.array([4,4,6])"
   ]
  },
  {
   "cell_type": "code",
   "execution_count": 67,
   "metadata": {},
   "outputs": [
    {
     "data": {
      "text/plain": [
       "array([[10, 20, 30],\n",
       "       [ 4,  4,  6]])"
      ]
     },
     "execution_count": 67,
     "metadata": {},
     "output_type": "execute_result"
    }
   ],
   "source": [
    "np.vstack((a1,a2))"
   ]
  },
  {
   "cell_type": "code",
   "execution_count": 68,
   "metadata": {},
   "outputs": [
    {
     "data": {
      "text/plain": [
       "array([10, 20, 30,  4,  4,  6])"
      ]
     },
     "execution_count": 68,
     "metadata": {},
     "output_type": "execute_result"
    }
   ],
   "source": [
    "np.hstack((a1,a2))"
   ]
  },
  {
   "cell_type": "code",
   "execution_count": 69,
   "metadata": {},
   "outputs": [
    {
     "data": {
      "text/plain": [
       "array([[10,  4],\n",
       "       [20,  4],\n",
       "       [30,  6]])"
      ]
     },
     "execution_count": 69,
     "metadata": {},
     "output_type": "execute_result"
    }
   ],
   "source": [
    "np.column_stack((a1,a2))"
   ]
  },
  {
   "cell_type": "code",
   "execution_count": 70,
   "metadata": {},
   "outputs": [],
   "source": [
    "a3 = np.array([10,20,30,4,4,6])\n",
    "a4 = np.array([1,2,3,4,5,6,7,8,9,10])"
   ]
  },
  {
   "cell_type": "code",
   "execution_count": 71,
   "metadata": {},
   "outputs": [
    {
     "data": {
      "text/plain": [
       "array([ 4,  6, 10])"
      ]
     },
     "execution_count": 71,
     "metadata": {},
     "output_type": "execute_result"
    }
   ],
   "source": [
    "np.intersect1d(a3,a4)"
   ]
  },
  {
   "cell_type": "code",
   "execution_count": 73,
   "metadata": {},
   "outputs": [
    {
     "data": {
      "text/plain": [
       "array([20, 30])"
      ]
     },
     "execution_count": 73,
     "metadata": {},
     "output_type": "execute_result"
    }
   ],
   "source": [
    "np.setdiff1d(a3,a4)"
   ]
  },
  {
   "cell_type": "code",
   "execution_count": 74,
   "metadata": {},
   "outputs": [
    {
     "data": {
      "text/plain": [
       "array([1, 2, 3, 5, 7, 8, 9])"
      ]
     },
     "execution_count": 74,
     "metadata": {},
     "output_type": "execute_result"
    }
   ],
   "source": [
    "np.setdiff1d(a4,a3)"
   ]
  },
  {
   "cell_type": "code",
   "execution_count": 76,
   "metadata": {},
   "outputs": [],
   "source": [
    "a5 = np.array([10,20])\n",
    "a6 = np.array([30,40])"
   ]
  },
  {
   "cell_type": "code",
   "execution_count": 77,
   "metadata": {},
   "outputs": [
    {
     "data": {
      "text/plain": [
       "100"
      ]
     },
     "execution_count": 77,
     "metadata": {},
     "output_type": "execute_result"
    }
   ],
   "source": [
    "np.sum([a5,a6])"
   ]
  },
  {
   "cell_type": "code",
   "execution_count": 78,
   "metadata": {},
   "outputs": [
    {
     "data": {
      "text/plain": [
       "array([40, 60])"
      ]
     },
     "execution_count": 78,
     "metadata": {},
     "output_type": "execute_result"
    }
   ],
   "source": [
    "np.sum([a5,a6],axis=0)"
   ]
  },
  {
   "cell_type": "code",
   "execution_count": 79,
   "metadata": {},
   "outputs": [
    {
     "data": {
      "text/plain": [
       "array([30, 70])"
      ]
     },
     "execution_count": 79,
     "metadata": {},
     "output_type": "execute_result"
    }
   ],
   "source": [
    "np.sum([a5,a6],axis=1)"
   ]
  },
  {
   "cell_type": "code",
   "execution_count": 85,
   "metadata": {},
   "outputs": [],
   "source": [
    "a7 = np.array([10,20,30,40,50])"
   ]
  },
  {
   "cell_type": "code",
   "execution_count": 86,
   "metadata": {},
   "outputs": [],
   "source": [
    "a7 = a7 + 1"
   ]
  },
  {
   "cell_type": "code",
   "execution_count": 87,
   "metadata": {},
   "outputs": [
    {
     "data": {
      "text/plain": [
       "array([11, 21, 31, 41, 51])"
      ]
     },
     "execution_count": 87,
     "metadata": {},
     "output_type": "execute_result"
    }
   ],
   "source": [
    "a7"
   ]
  },
  {
   "cell_type": "code",
   "execution_count": 89,
   "metadata": {},
   "outputs": [],
   "source": [
    "a7 = a7 - 1"
   ]
  },
  {
   "cell_type": "code",
   "execution_count": 90,
   "metadata": {},
   "outputs": [
    {
     "data": {
      "text/plain": [
       "array([ 9, 19, 29, 39, 49])"
      ]
     },
     "execution_count": 90,
     "metadata": {},
     "output_type": "execute_result"
    }
   ],
   "source": [
    "a7"
   ]
  },
  {
   "cell_type": "code",
   "execution_count": 91,
   "metadata": {},
   "outputs": [],
   "source": [
    "a7 = a7 * 2"
   ]
  },
  {
   "cell_type": "code",
   "execution_count": 92,
   "metadata": {},
   "outputs": [
    {
     "data": {
      "text/plain": [
       "array([18, 38, 58, 78, 98])"
      ]
     },
     "execution_count": 92,
     "metadata": {},
     "output_type": "execute_result"
    }
   ],
   "source": [
    "a7"
   ]
  },
  {
   "cell_type": "code",
   "execution_count": 106,
   "metadata": {},
   "outputs": [
    {
     "data": {
      "text/plain": [
       "array([ 50.4, 104.4, 158.4, 212.4, 266.4])"
      ]
     },
     "execution_count": 106,
     "metadata": {},
     "output_type": "execute_result"
    }
   ],
   "source": [
    "a7 = a7 * 3\n",
    "a7"
   ]
  },
  {
   "cell_type": "code",
   "execution_count": 107,
   "metadata": {},
   "outputs": [
    {
     "data": {
      "text/plain": [
       "array([ 52.4, 106.4, 160.4, 214.4, 268.4])"
      ]
     },
     "execution_count": 107,
     "metadata": {},
     "output_type": "execute_result"
    }
   ],
   "source": [
    "a7 = a7 + 2\n",
    "a7"
   ]
  },
  {
   "cell_type": "code",
   "execution_count": 108,
   "metadata": {},
   "outputs": [
    {
     "data": {
      "text/plain": [
       "array([ 5.24, 10.64, 16.04, 21.44, 26.84])"
      ]
     },
     "execution_count": 108,
     "metadata": {},
     "output_type": "execute_result"
    }
   ],
   "source": [
    "a7 = a7 / 10\n",
    "a7"
   ]
  },
  {
   "cell_type": "code",
   "execution_count": 109,
   "metadata": {},
   "outputs": [
    {
     "data": {
      "text/plain": [
       "16.04"
      ]
     },
     "execution_count": 109,
     "metadata": {},
     "output_type": "execute_result"
    }
   ],
   "source": [
    "np.mean(a7)"
   ]
  },
  {
   "cell_type": "code",
   "execution_count": 110,
   "metadata": {},
   "outputs": [
    {
     "data": {
      "text/plain": [
       "7.636753236814715"
      ]
     },
     "execution_count": 110,
     "metadata": {},
     "output_type": "execute_result"
    }
   ],
   "source": [
    "np.std(a7)"
   ]
  },
  {
   "cell_type": "code",
   "execution_count": 114,
   "metadata": {},
   "outputs": [
    {
     "data": {
      "text/plain": [
       "16.04"
      ]
     },
     "execution_count": 114,
     "metadata": {},
     "output_type": "execute_result"
    }
   ],
   "source": [
    "np.median(a7)"
   ]
  },
  {
   "cell_type": "code",
   "execution_count": 116,
   "metadata": {},
   "outputs": [],
   "source": [
    "a8 = np.array([10,20,30,40,50])\n",
    "np.save('my_numpy',a8)"
   ]
  },
  {
   "cell_type": "code",
   "execution_count": 183,
   "metadata": {},
   "outputs": [
    {
     "data": {
      "text/plain": [
       "array([10, 20, 30, 40, 50])"
      ]
     },
     "execution_count": 183,
     "metadata": {},
     "output_type": "execute_result"
    }
   ],
   "source": [
    "a9 = np.load('my_numpy.npy')\n",
    "a9"
   ]
  },
  {
   "cell_type": "code",
   "execution_count": 188,
   "metadata": {},
   "outputs": [
    {
     "ename": "TypeError",
     "evalue": "Field elements must be 2- or 3-tuples, got '6'",
     "output_type": "error",
     "traceback": [
      "\u001b[1;31m---------------------------------------------------------------------------\u001b[0m",
      "\u001b[1;31mTypeError\u001b[0m                                 Traceback (most recent call last)",
      "\u001b[1;32m<ipython-input-188-7fa401e8d5eb>\u001b[0m in \u001b[0;36m<module>\u001b[1;34m\u001b[0m\n\u001b[1;32m----> 1\u001b[1;33m \u001b[0mk1\u001b[0m\u001b[1;33m=\u001b[0m\u001b[0mnp\u001b[0m\u001b[1;33m.\u001b[0m\u001b[0marray\u001b[0m\u001b[1;33m(\u001b[0m\u001b[1;33m[\u001b[0m\u001b[1;36m1\u001b[0m\u001b[1;33m,\u001b[0m\u001b[1;36m2\u001b[0m\u001b[1;33m,\u001b[0m\u001b[1;36m3\u001b[0m\u001b[1;33m,\u001b[0m\u001b[1;36m4\u001b[0m\u001b[1;33m]\u001b[0m\u001b[1;33m,\u001b[0m\u001b[1;33m[\u001b[0m\u001b[1;36m6\u001b[0m\u001b[1;33m,\u001b[0m\u001b[1;36m7\u001b[0m\u001b[1;33m,\u001b[0m\u001b[1;36m8\u001b[0m\u001b[1;33m,\u001b[0m\u001b[1;36m9\u001b[0m\u001b[1;33m]\u001b[0m\u001b[1;33m)\u001b[0m\u001b[1;33m\u001b[0m\u001b[1;33m\u001b[0m\u001b[0m\n\u001b[0m\u001b[0;32m      2\u001b[0m \u001b[0mk1\u001b[0m\u001b[1;33m.\u001b[0m\u001b[0mshape\u001b[0m\u001b[1;33m\u001b[0m\u001b[1;33m\u001b[0m\u001b[0m\n",
      "\u001b[1;31mTypeError\u001b[0m: Field elements must be 2- or 3-tuples, got '6'"
     ]
    }
   ],
   "source": [
    "k1=np.array([1,2,3,4],[6,7,8,9])\n",
    "k1.shape"
   ]
  },
  {
   "cell_type": "code",
   "execution_count": 190,
   "metadata": {},
   "outputs": [],
   "source": [
    "n1=[45,60]\n",
    "n2=[55,40]"
   ]
  },
  {
   "cell_type": "code",
   "execution_count": 192,
   "metadata": {},
   "outputs": [
    {
     "data": {
      "text/plain": [
       "array([[45, 60],\n",
       "       [55, 40]])"
      ]
     },
     "execution_count": 192,
     "metadata": {},
     "output_type": "execute_result"
    }
   ],
   "source": [
    "np.vstack((n1,n2))"
   ]
  },
  {
   "cell_type": "code",
   "execution_count": 195,
   "metadata": {},
   "outputs": [
    {
     "data": {
      "text/plain": [
       "array([100, 100])"
      ]
     },
     "execution_count": 195,
     "metadata": {},
     "output_type": "execute_result"
    }
   ],
   "source": [
    "np.sum([n1,n2],axis=0)"
   ]
  },
  {
   "cell_type": "code",
   "execution_count": 197,
   "metadata": {},
   "outputs": [
    {
     "ename": "NameError",
     "evalue": "name 'pd' is not defined",
     "output_type": "error",
     "traceback": [
      "\u001b[1;31m---------------------------------------------------------------------------\u001b[0m",
      "\u001b[1;31mNameError\u001b[0m                                 Traceback (most recent call last)",
      "\u001b[1;32m<ipython-input-197-1f01fe7c50f9>\u001b[0m in \u001b[0;36m<module>\u001b[1;34m\u001b[0m\n\u001b[1;32m----> 1\u001b[1;33m \u001b[0ms1\u001b[0m\u001b[1;33m=\u001b[0m\u001b[0mpd\u001b[0m\u001b[1;33m.\u001b[0m\u001b[0mSeries\u001b[0m\u001b[1;33m(\u001b[0m\u001b[1;33m[\u001b[0m\u001b[1;36m1\u001b[0m\u001b[1;33m,\u001b[0m\u001b[1;36m2\u001b[0m\u001b[1;33m,\u001b[0m\u001b[1;36m3\u001b[0m\u001b[1;33m,\u001b[0m\u001b[1;36m4\u001b[0m\u001b[1;33m,\u001b[0m\u001b[1;36m5\u001b[0m\u001b[1;33m]\u001b[0m\u001b[1;33m,\u001b[0m\u001b[0mindex\u001b[0m\u001b[1;33m=\u001b[0m\u001b[1;33m[\u001b[0m\u001b[1;34m'a'\u001b[0m\u001b[1;33m,\u001b[0m\u001b[1;34m'b'\u001b[0m\u001b[1;33m,\u001b[0m\u001b[1;34m'c'\u001b[0m\u001b[1;33m,\u001b[0m\u001b[1;34m'd'\u001b[0m\u001b[1;33m,\u001b[0m\u001b[1;34m'e'\u001b[0m\u001b[1;33m]\u001b[0m\u001b[1;33m)\u001b[0m\u001b[1;33m\u001b[0m\u001b[1;33m\u001b[0m\u001b[0m\n\u001b[0m",
      "\u001b[1;31mNameError\u001b[0m: name 'pd' is not defined"
     ]
    }
   ],
   "source": [
    "s1=pd.Series([1,2,3,4,5],index=['a','b','c','d','e'])"
   ]
  },
  {
   "cell_type": "code",
   "execution_count": 202,
   "metadata": {},
   "outputs": [
    {
     "data": {
      "text/plain": [
       "(2, 4)"
      ]
     },
     "execution_count": 202,
     "metadata": {},
     "output_type": "execute_result"
    }
   ],
   "source": [
    "k12 = np.array([[1,2,3,4],[6,7,8,9]])\n",
    "# n1=np.array([1,2,3,4],[6,7,8,9])\n",
    "# n1.shape\n",
    "k12.shape\n"
   ]
  }
 ],
 "metadata": {
  "kernelspec": {
   "display_name": "Python 3",
   "language": "python",
   "name": "python3"
  },
  "language_info": {
   "codemirror_mode": {
    "name": "ipython",
    "version": 3
   },
   "file_extension": ".py",
   "mimetype": "text/x-python",
   "name": "python",
   "nbconvert_exporter": "python",
   "pygments_lexer": "ipython3",
   "version": "3.8.5"
  }
 },
 "nbformat": 4,
 "nbformat_minor": 4
}
